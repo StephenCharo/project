{
 "cells": [
  {
   "cell_type": "code",
   "execution_count": 1,
   "id": "d59dae5e",
   "metadata": {},
   "outputs": [
    {
     "name": "stdout",
     "output_type": "stream",
     "text": [
      "Requirement already satisfied: textblob in c:\\users\\user\\anaconda3\\lib\\site-packages (0.17.1)\n",
      "Requirement already satisfied: nltk>=3.1 in c:\\users\\user\\anaconda3\\lib\\site-packages (from textblob) (3.7)\n",
      "Requirement already satisfied: click in c:\\users\\user\\anaconda3\\lib\\site-packages (from nltk>=3.1->textblob) (8.0.4)\n",
      "Requirement already satisfied: joblib in c:\\users\\user\\anaconda3\\lib\\site-packages (from nltk>=3.1->textblob) (1.1.0)\n",
      "Requirement already satisfied: regex>=2021.8.3 in c:\\users\\user\\anaconda3\\lib\\site-packages (from nltk>=3.1->textblob) (2022.7.9)\n",
      "Requirement already satisfied: tqdm in c:\\users\\user\\anaconda3\\lib\\site-packages (from nltk>=3.1->textblob) (4.64.1)\n",
      "Requirement already satisfied: colorama in c:\\users\\user\\anaconda3\\lib\\site-packages (from click->nltk>=3.1->textblob) (0.4.5)\n"
     ]
    }
   ],
   "source": [
    "!pip install textblob"
   ]
  },
  {
   "cell_type": "code",
   "execution_count": 2,
   "id": "3b41f2a8",
   "metadata": {},
   "outputs": [],
   "source": [
    "from textblob import TextBlob"
   ]
  },
  {
   "cell_type": "code",
   "execution_count": 3,
   "id": "1155879e",
   "metadata": {},
   "outputs": [],
   "source": [
    "tb = TextBlob(\"i fil soo goood\")"
   ]
  },
  {
   "cell_type": "code",
   "execution_count": 4,
   "id": "7245da4d",
   "metadata": {},
   "outputs": [
    {
     "data": {
      "text/plain": [
       "TextBlob(\"i fig so good\")"
      ]
     },
     "execution_count": 4,
     "metadata": {},
     "output_type": "execute_result"
    }
   ],
   "source": [
    "tb.correct()"
   ]
  },
  {
   "cell_type": "code",
   "execution_count": 5,
   "id": "c935b40d",
   "metadata": {},
   "outputs": [
    {
     "name": "stdout",
     "output_type": "stream",
     "text": [
      "Requirement already satisfied: spello in c:\\users\\user\\anaconda3\\lib\\site-packages (1.3.0)\n",
      "Requirement already satisfied: nltk<4,>=3.4.5 in c:\\users\\user\\anaconda3\\lib\\site-packages (from spello) (3.7)\n",
      "Requirement already satisfied: regex>=2021.8.3 in c:\\users\\user\\anaconda3\\lib\\site-packages (from nltk<4,>=3.4.5->spello) (2022.7.9)\n",
      "Requirement already satisfied: joblib in c:\\users\\user\\anaconda3\\lib\\site-packages (from nltk<4,>=3.4.5->spello) (1.1.0)\n",
      "Requirement already satisfied: tqdm in c:\\users\\user\\anaconda3\\lib\\site-packages (from nltk<4,>=3.4.5->spello) (4.64.1)\n",
      "Requirement already satisfied: click in c:\\users\\user\\anaconda3\\lib\\site-packages (from nltk<4,>=3.4.5->spello) (8.0.4)\n",
      "Requirement already satisfied: colorama in c:\\users\\user\\anaconda3\\lib\\site-packages (from click->nltk<4,>=3.4.5->spello) (0.4.5)\n"
     ]
    }
   ],
   "source": [
    "!pip install spello"
   ]
  },
  {
   "cell_type": "code",
   "execution_count": 6,
   "id": "b5afbe28",
   "metadata": {},
   "outputs": [],
   "source": [
    "from spello.model import SpellCorrectionModel"
   ]
  },
  {
   "cell_type": "code",
   "execution_count": 7,
   "id": "0403a253",
   "metadata": {},
   "outputs": [],
   "source": [
    "sp = SpellCorrectionModel(language = \"en\")"
   ]
  },
  {
   "cell_type": "code",
   "execution_count": 8,
   "id": "2892a782",
   "metadata": {},
   "outputs": [],
   "source": [
    "with open(\"midterm.csv\", \"r\") as file:\n",
    "    data = file.readlines()"
   ]
  },
  {
   "cell_type": "code",
   "execution_count": 9,
   "id": "ec18b00d",
   "metadata": {},
   "outputs": [],
   "source": [
    "data = [i.strip() for i in data]"
   ]
  },
  {
   "cell_type": "code",
   "execution_count": 10,
   "id": "d00e4a9e",
   "metadata": {},
   "outputs": [
    {
     "data": {
      "text/plain": [
       "['ï»¿webscraperorderwebscraperstarturlcitizencitizenhrefcitizentvcitizentvhrefdatacommentsyoutubevideoyoutubevideohrefcomment',\n",
       " '167725875727kenyarefsrctwsrc5egoogle7ctwcamp5eserp7ctwgr5eauthorlikeskenyalikesrefsrctwsrc5egoogle7ctwcamp5eserp7ctwgr5eauthorjohn kj kiariekiariejohnfeb 21mapemandiobest',\n",
       " '',\n",
       " 'early morning conversations on citizentvkenyas daybreak covering a wide range of topics of interest today5815813032093k',\n",
       " '167725875728httpstwittercomcitizentvkenyarefsrctwsrc5egoogle7ctwcamp5eserp7ctwgr5eauthorlikesrefsrctwsrc5egoogle7ctwcam5eserp7ctwgr5eauthofaizah wanjiruwfayzahÂ·feb 20jumanne hii kwenye citizentvkenya  nayemkapombe  kuanzia saa nne asubuhi0422559 views2559122k',\n",
       " 'refsrtwsrc5egoogle7ctwcamp5eserp7ctwgreauthorlikesrefsrtwsrc5egooglectwcamp5eser7ctwg5eauthormashirima kapombemkapombefeb 20mwengewakaunti kisii jumanne (kesho) 10am614104191k',\n",
       " '167725875730refsrctwsrc5egoogle7ctwcamp5eserp7ctwgr5eauthorrefsrctwsrc5egoogle7ctwcamp5eserp7ctwgr5eauthorbambikbambikafanpageÂ·feb 19welcome to bambika on citizentvkenya',\n",
       " '',\n",
       " 'todays topic brotherly love',\n",
       " '',\n",
       " 'send your shout outs to your siblings',\n",
       " '',\n",
       " 'with timelessnoel1 x djggactivist3813128197k',\n",
       " '167725875731refsrctwsrc5egoogle7ctwcamp5eserp7ctwgr5eauthorlikesrefsrctwsrc5egoogl7ctwcampeserp7ctwgr5eauthorjohn kj kiariekiariejohnÂ·feb 21mapemandiobest',\n",
       " '',\n",
       " 'early morning conversations on citizentvkenyaâ€˜s daybreak covering a wide range of topics of interest today5815813032093k',\n",
       " '167725875732hkenyarefsrctwsrc5egoogle7ctwcamp5eserp7ctwgr5eauthorlikesrefsrctwsrc5egoogle7ctwcamp5eserp7ctwgr5eauthorfaizah wanjiruwfayzahÂ·feb 20jumanne hii kwenye citizentvkenya  naye mkapombe  kuanzia saa nne asubuhi0422559 views2559122k',\n",
       " '167725875733kenyarefsrctwsrc5egoogle7ctwcamp5eserp7ctwgr5eauthorlikesrefsrctwsrc5egoogle7ctwcamp5eserp7ctwgr5eauthormashirima kapombemkapombeÂ·feb 20mwengewakaunti kisii jumanne (kesho) 10am614104191k',\n",
       " '167725875734refsrctwsrc5egoogle7ctwcamp5eserp7ctwgr5eauthorlikesrefsrctwsrc5egoogle7ctwcamp5eserp7ctwgr5eauthorbambikabambikafanpageÂ·feb 19welcome to bambika on citizentvkenya',\n",
       " '',\n",
       " 'todays topic brotherly love',\n",
       " '',\n",
       " 'send your shout outs to your siblings',\n",
       " '',\n",
       " 'with timelessnoel1 x djggactivist3813128197k',\n",
       " '167725877135refsrctwsrc5egoogle7ctwcamp5eserp7ctwgr5eauthormediarefsrctwsrc5egoogle7ctwcamp5eserp7ctwgr5eauthorcitizen tv kenyacitizentvkenyaÂ·8mafricaâ€™s biggest election32',\n",
       " '167725877136httpstwittercomcitizentvkenyarefsrctwsrc5egoogle7ctwcamp5eserp7ctwgr5eauthormediarefsrctwsrc5egoogle7ctwcamp5eserp7ctwgr5eauthorcitizen tv kenyacitizentvkenyaÂ·52m124 people arrested for violating curfew orders in north rift interior cs kindiki says 39 firearms have so far been surrendered as threeday amnesty elapses42433600',\n",
       " '167725877137refsrctwsrc5egoogle7ctwcamp5eserp7ctwgr5eauthormediarefsrctwsrc5egoogle7ctwcamp5eserp7ctwgr5eauthorcitizen tv kenyacitizentvkenyaÂ·53mziara ya jill biden',\n",
       " '',\n",
       " 'mke wa rais wa marekani jill biden awasili kenya kwa ziara ya siku mbili dkt biden ataangazia maslahi ya wanawake na nafasi ya vijana afrika nipashewikendi mkapombe11122290',\n",
       " '167725877138refsrctwsrc5egoogle7ctwcamp5eserp7ctwgr5eauthormediarefsrctwsrc5egoogle7ctwcamp5eserp7ctwgr5eauthorcitizen tv kenyacitizentvkenyaÂ·8mafricaâ€™s biggest election32',\n",
       " '167725877139httpstwittercomcitizentvkenyarefsrctwsrc5egoogle7ctwcamp5eserp7ctwgr5eauthormediarefsrctwsrc5egoogle7ctwcamp5eserp7ctwgr5eauthorcitizen tv kenyacitizentvkenyaÂ·52m124 people arrested for violating curfew orders in north rift interior cs kindiki says 39 firearms have so far been surrendered as threeday amnesty elapses42433600',\n",
       " '167725877140refsrctwsrc5egoogle7ctwcamp5eserp7ctwgr5eauthormediarefsrctwsrc5egoogle7ctwcamp5eserp7ctwgr5eauthorcitizen tv kenyacitizentvkenyaÂ·53mziara ya jill biden',\n",
       " '',\n",
       " 'mke wa rais wa marekani jill biden awasili kenya kwa ziara ya siku mbili dkt biden ataangazia maslahi ya wanawake na nafasi ya vijana afrika nipashewikendi mkapombe11122290',\n",
       " '167725878541httpstwittercomcitizentvkenyarefsrctwsrc5egoogle7ctwcamp5eserp7ctwgr5eauthortweets  repliesrefsrctwsrc5egoogle7ctwcamp5eserp7ctwgr5eauthorcitizen tv kenyacitizentvkenyaÂ·1htazama  nipashewikendi na mkapombelive4 viewerscitizen tv kenyacitizentvkenyacitizen tv live33112846',\n",
       " '167725878542refsrctwsrc5egoogle7ctwcamp5eserp7ctwgr5eauthortweets  repliesrefsrctwsrc5egoogle7ctwcamp5eserp7ctwgr5eauthorcitizen tv kenyacitizentvkenyaÂ·8mafricaâ€™s biggest election657',\n",
       " '167725878543refsrctwsrc5egoogle7ctwcamp5eserp7ctwgr5eauthortweets  repliesrefsrctwsrc5egoogle7ctwcamp5eserp7ctwgr5eauthorcitizen tv kenyacitizentvkenyaÂ·49mdp gachagua raila was fired from au because of demonstrationscitizendigitaldp gachagua raila was fired from au because of demonstrationsdp rigathi gachagua now claims azimio leader raila odinga was dismissed from his post as the au high representative for infrastructure development3172894',\n",
       " '167725878544refsrctwsrc5egoogle7ctwcamp5eserp7ctwgr5eauthortweets  repliesrefsrctwsrc5egoogle7ctwcamp5eserp7ctwgr5eauthorcitizen tv kenyacitizentvkenyaÂ·1htazama  nipashewikendi na mkapombelive4 viewerscitizen tv kenyacitizentvkenyacitizen tv live33112846',\n",
       " '167725878545refsrctwsrc5egoogle7ctwcamp5eserp7ctwgr5eauthortweets  repliesrefsrctwsrc5egoogle7ctwcamp5eserp7ctwgr5eauthorcitizen tv kenyacitizentvkenya',\n",
       " '167725878546refsrctwsrc5egoogle7ctwcamp5eserp7ctwgr5eauthortweets  repliesrefsrctwsrc5egoogle7ctwcamp5eserp7ctwgr5eauthorcitizen tv kenyacitizentvkenyaÂ·8mafricaâ€™s biggest election657',\n",
       " '167725878547refsrctwsrc5egoogle7ctwcamp5eserp7ctwgr5eauthortweets  replieshttpstwittercomcitizentvkenyawithrepliesrefsrctwsrc5egoogle7ctwcamp5eserp7ctwgr5eauthorcitizen tv kenyacitizentvkenyaÂ·49mdp gachagua raila was fired from au because of demonstrationscitizendigitaldp gachagua raila was fired from au because of demonstrationsdp rigathi gachagua now claims azimio leader raila odinga was dismissed from his post as the au high representative for infrastructure development3172894']"
      ]
     },
     "execution_count": 10,
     "metadata": {},
     "output_type": "execute_result"
    }
   ],
   "source": [
    "data"
   ]
  },
  {
   "cell_type": "code",
   "execution_count": 11,
   "id": "903795d8",
   "metadata": {},
   "outputs": [
    {
     "name": "stdout",
     "output_type": "stream",
     "text": [
      "Spello training started..\n",
      "Context model training started ...\n",
      "Symspell training started ...\n",
      "Phoneme training started ...\n",
      "Spello training completed successfully ...\n"
     ]
    }
   ],
   "source": [
    "sp.train(data)"
   ]
  },
  {
   "cell_type": "code",
   "execution_count": 15,
   "id": "50687b9a",
   "metadata": {},
   "outputs": [
    {
     "data": {
      "text/plain": [
       "{'original_text': 'our country has highh infrestractre',\n",
       " 'spell_corrected_text': 'your country as high infrastructure',\n",
       " 'correction_dict': {'our': 'your',\n",
       "  'has': 'as',\n",
       "  'highh': 'high',\n",
       "  'infrestractre': 'infrastructure'}}"
      ]
     },
     "execution_count": 15,
     "metadata": {},
     "output_type": "execute_result"
    }
   ],
   "source": [
    "sp.spell_correct(\"our country has highh infrestractre\")"
   ]
  },
  {
   "cell_type": "code",
   "execution_count": 18,
   "id": "bde37840",
   "metadata": {},
   "outputs": [
    {
     "data": {
      "text/plain": [
       "'\\\\Users\\\\User\\\\Desktop\\\\Anaconda\\\\model.pkl'"
      ]
     },
     "execution_count": 18,
     "metadata": {},
     "output_type": "execute_result"
    }
   ],
   "source": [
    "sp.save(\"/Users/User/Desktop/Anaconda\")"
   ]
  },
  {
   "cell_type": "code",
   "execution_count": 19,
   "id": "4fecde00",
   "metadata": {},
   "outputs": [],
   "source": [
    "import pickle"
   ]
  },
  {
   "cell_type": "code",
   "execution_count": 20,
   "id": "d6548446",
   "metadata": {},
   "outputs": [
    {
     "data": {
      "text/plain": [
       "<spello.model.SpellCorrectionModel at 0x1cc180fcb50>"
      ]
     },
     "execution_count": 20,
     "metadata": {},
     "output_type": "execute_result"
    }
   ],
   "source": [
    "sp.load(\"\\\\Users\\\\User\\\\Desktop\\\\Anaconda\\\\model.pkl\")"
   ]
  },
  {
   "cell_type": "code",
   "execution_count": 21,
   "id": "544a53c8",
   "metadata": {},
   "outputs": [
    {
     "data": {
      "text/plain": [
       "{'original_text': 'our country has highh infrestructre',\n",
       " 'spell_corrected_text': 'your country as high infrastructure',\n",
       " 'correction_dict': {'our': 'your',\n",
       "  'has': 'as',\n",
       "  'highh': 'high',\n",
       "  'infrestructre': 'infrastructure'}}"
      ]
     },
     "execution_count": 21,
     "metadata": {},
     "output_type": "execute_result"
    }
   ],
   "source": [
    "sp.spell_correct(\"our country has highh infrestructre\")"
   ]
  },
  {
   "cell_type": "code",
   "execution_count": null,
   "id": "6ab152c2",
   "metadata": {},
   "outputs": [],
   "source": []
  }
 ],
 "metadata": {
  "kernelspec": {
   "display_name": "Python 3 (ipykernel)",
   "language": "python",
   "name": "python3"
  },
  "language_info": {
   "codemirror_mode": {
    "name": "ipython",
    "version": 3
   },
   "file_extension": ".py",
   "mimetype": "text/x-python",
   "name": "python",
   "nbconvert_exporter": "python",
   "pygments_lexer": "ipython3",
   "version": "3.9.13"
  }
 },
 "nbformat": 4,
 "nbformat_minor": 5
}
